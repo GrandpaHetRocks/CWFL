{
 "cells": [
  {
   "cell_type": "code",
   "execution_count": 1,
   "metadata": {},
   "outputs": [],
   "source": [
    "from numpy import unique\n",
    "from numpy import where\n",
    "from sklearn.datasets import make_classification\n",
    "from sklearn.cluster import KMeans\n",
    "import matplotlib\n",
    "from matplotlib import pyplot as plt\n",
    "import pandas as pd\n",
    "import math\n",
    "import numpy as np\n",
    "import random\n",
    "from sklearn.datasets import make_blobs\n",
    "# from matplotlib import style\n",
    "# style.use('ggplot')"
   ]
  },
  {
   "cell_type": "code",
   "execution_count": 2,
   "metadata": {},
   "outputs": [],
   "source": [
    "def get_key(val,my_dict):\n",
    "    for key, value in my_dict.items():\n",
    "         if (val[0] == value[0] and val[1] == value[1]):\n",
    "             return key"
   ]
  },
  {
   "cell_type": "code",
   "execution_count": 3,
   "metadata": {},
   "outputs": [],
   "source": [
    "def calc_distance(X1, X2):\n",
    "    return ((sum((X1 - X2)**2))**0.5)  #increasing spread here"
   ]
  },
  {
   "cell_type": "code",
   "execution_count": 4,
   "metadata": {},
   "outputs": [],
   "source": [
    "class K_Means:\n",
    "    def __init__(self, k, tol=0.001, max_iter=30):\n",
    "        self.k = k\n",
    "        self.tol = tol\n",
    "        self.max_iter = max_iter\n",
    "    \n",
    "    def closest_node(self,node, nodes):\n",
    "        nodes = np.asarray(nodes)\n",
    "        dist_2 = np.sum((nodes - node)**2, axis=1)\n",
    "        return np.argmin(dist_2)\n",
    "\n",
    "    def fit(self,data,snr_dic,clients):\n",
    "\n",
    "        self.centroids = {}\n",
    "\n",
    "        for i in range(self.k):\n",
    "            self.centroids[i] = data[i]\n",
    "#             print(self.centroids)\n",
    "\n",
    "        for i in range(self.max_iter):\n",
    "            self.classifications = {}\n",
    "\n",
    "            for i in range(self.k):\n",
    "                self.classifications[i] = []\n",
    "\n",
    "            for featureset in data:\n",
    "                distances = [np.linalg.norm(featureset-self.centroids[centroid]) for centroid in self.centroids]\n",
    "                snrs=[]\n",
    "                for c in self.centroids:\n",
    "                    cl1=get_key(featureset,clients)\n",
    "                    cl2=get_key(self.centroids[c],clients)\n",
    "                    try:\n",
    "                        try:\n",
    "                            snr=snr_dic[tuple((tuple(featureset),tuple(self.centroids[c])))]\n",
    "                        except:\n",
    "                            snr=snr_dic[tuple((tuple(self.centroids[c]),tuple(featureset)))]\n",
    "                    except:\n",
    "                        snr=10000\n",
    "                    snrs.append(snr)\n",
    "                classification = snrs.index(max(snrs))\n",
    "                self.classifications[classification].append(featureset)\n",
    "\n",
    "            prev_centroids = dict(self.centroids)\n",
    "\n",
    "            for classification in self.classifications:\n",
    "                self.centroids[classification] = np.average(self.classifications[classification],axis=0)\n",
    "            \n",
    "            for c in range(len(self.centroids)):\n",
    "                p=self.closest_node(self.centroids[c],data)\n",
    "                self.centroids[c]=data[p]\n",
    "\n",
    "            optimized = True\n",
    "\n",
    "            for c in self.centroids:\n",
    "                original_centroid = prev_centroids[c]\n",
    "                current_centroid = self.centroids[c]\n",
    "                if np.sum((current_centroid-original_centroid)/original_centroid*100.0) > self.tol:\n",
    "#                     print(np.sum((current_centroid-original_centroid)/original_centroid*100.0))\n",
    "                    optimized = False\n",
    "            \n",
    "\n",
    "            if optimized:\n",
    "                break\n",
    "\n",
    "    def predict(self,data):\n",
    "        distances = [np.linalg.norm(data-self.centroids[centroid]) for centroid in self.centroids]\n",
    "        classification = distances.index(min(distances))\n",
    "        return classification"
   ]
  },
  {
   "cell_type": "code",
   "execution_count": 5,
   "metadata": {},
   "outputs": [],
   "source": [
    "def snr_list(clients):\n",
    "    snr_dic={}\n",
    "    for i in range(len(clients)-1):\n",
    "        for j in range(i+1,len(clients)):\n",
    "            X1=clients['client'+str(i+1)]\n",
    "            X2=clients['client'+str(j+1)]\n",
    "            dis=calc_distance(X1,X2)\n",
    "            path_loss=10*math.log10(2000/(dis*dis))#1000\n",
    "            noise=random.uniform(0,5)\n",
    "            snr_dic.update({tuple([tuple(X1),tuple(X2)]):path_loss-noise})\n",
    "    return(snr_dic)"
   ]
  },
  {
   "cell_type": "code",
   "execution_count": 6,
   "metadata": {},
   "outputs": [
    {
     "data": {
      "image/png": "[encoded data removed]",
      "text/plain": [
       "<Figure size 432x288 with 1 Axes>"
      ]
     },
     "metadata": {
      "needs_background": "light"
     },
     "output_type": "display_data"
    }
   ],
   "source": [
    "cluster_array, _ = make_blobs(n_samples=100,n_features=2, centers=6,random_state=80)\n",
    "# print(cluster_array)\n",
    "no=1\n",
    "clients={}\n",
    "for client in cluster_array:\n",
    "    clients['client'+str(no)]=client\n",
    "    no+=1\n",
    "snr_dic=snr_list(clients)\n",
    "k=4\n",
    "model = K_Means(k=k)\n",
    "model.fit(cluster_array,snr_dic,clients)\n",
    "\n",
    "for centroid in model.centroids:\n",
    "    plt.scatter(model.centroids[centroid][0], model.centroids[centroid][1],\n",
    "                marker=\"o\", color=\"black\",s=150)\n",
    "\n",
    "no=0\n",
    "for classification in model.classifications:\n",
    "#     color = [\"#\"+''.join([random.choice('0123456789ABCDEF') for j in range(6)]) for i in range(k)]\n",
    "    color=['red','blue','green','yellow']\n",
    "    for featureset in model.classifications[classification]:\n",
    "        plt.scatter(featureset[0], featureset[1], color=color[no])\n",
    "    no+=1\n",
    "        \n",
    "plt.show()"
   ]
  },
  {
   "cell_type": "code",
   "execution_count": null,
   "metadata": {},
   "outputs": [],
   "source": []
  }
 ],
 "metadata": {
  "kernelspec": {
   "display_name": "FL",
   "language": "python",
   "name": "fl"
  },
  "language_info": {
   "codemirror_mode": {
    "name": "ipython",
    "version": 3
   },
   "file_extension": ".py",
   "mimetype": "text/x-python",
   "name": "python",
   "nbconvert_exporter": "python",
   "pygments_lexer": "ipython3",
   "version": "3.7.6"
  }
 },
 "nbformat": 4,
 "nbformat_minor": 5
}
